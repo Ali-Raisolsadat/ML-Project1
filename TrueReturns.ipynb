{
 "cells": [
  {
   "cell_type": "code",
   "execution_count": 1,
   "metadata": {},
   "outputs": [],
   "source": [
    "from pandas_datareader import data\n",
    "import matplotlib.pyplot as plt\n",
    "import pandas as pd\n",
    "import numpy as np\n",
    "from numpy.linalg import inv\n",
    "import math"
   ]
  },
  {
   "cell_type": "code",
   "execution_count": 2,
   "metadata": {},
   "outputs": [],
   "source": [
    "# Two telecommunication companies, two tech companies, and Walmart\n",
    "expected_return = []\n",
    "tickers = ['CMCSA','T', 'AAPL', 'MSFT', 'WMT']\n",
    "\n",
    "\n",
    "start_date = '2014-01-01'\n",
    "end_date = '2014-12-31'\n",
    "for ticker in tickers:\n",
    "    unit_cost = data.DataReader(ticker, 'yahoo', start_date)['Open'][0]\n",
    "    adj_close = data.DataReader(ticker, 'yahoo', end_date)['Adj Close'][0]\n",
    "    ticker_return = ((adj_close - unit_cost) / unit_cost)*100\n",
    "    expected_return.append(ticker_return)\n",
    "    \n",
    "start_date = '2015-01-01'\n",
    "end_date = '2015-12-31'\n",
    "for ticker in tickers:\n",
    "    unit_cost = data.DataReader(ticker, 'yahoo', start_date)['Open'][0]\n",
    "    adj_close = data.DataReader(ticker, 'yahoo', end_date)['Adj Close'][0]\n",
    "    ticker_return =  ((adj_close - unit_cost) / unit_cost)*100\n",
    "    expected_return.append(ticker_return)\n",
    "    \n",
    "start_date = '2016-01-01'\n",
    "end_date = '2016-12-30'\n",
    "for ticker in tickers:\n",
    "    unit_cost = data.DataReader(ticker, 'yahoo', start_date)['Open'][0]\n",
    "    adj_close = data.DataReader(ticker, 'yahoo', end_date)['Adj Close'][0]\n",
    "    ticker_return =  ((adj_close - unit_cost) / unit_cost)*100\n",
    "    expected_return.append(ticker_return)\n",
    "    \n",
    "    \n",
    "start_date = '2017-01-01'\n",
    "end_date = '2017-12-29'\n",
    "for ticker in tickers:\n",
    "    unit_cost = data.DataReader(ticker, 'yahoo', start_date)['Open'][0]\n",
    "    adj_close = data.DataReader(ticker, 'yahoo', end_date)['Adj Close'][0]\n",
    "    ticker_return =  ((adj_close - unit_cost) / unit_cost)*100\n",
    "    expected_return.append(ticker_return)\n",
    "    \n",
    "start_date = '2018-01-01'\n",
    "end_date = '2018-12-31'\n",
    "for ticker in tickers:\n",
    "    unit_cost = data.DataReader(ticker, 'yahoo', start_date)['Open'][0]\n",
    "    adj_close = data.DataReader(ticker, 'yahoo', end_date)['Adj Close'][0]\n",
    "    ticker_return =  ((adj_close - unit_cost) / unit_cost)*100\n",
    "    expected_return.append(ticker_return)"
   ]
  },
  {
   "cell_type": "markdown",
   "metadata": {},
   "source": [
    "Here expected return for each stock is calculated throughout years 2014 to 2018. To see results, the last line in the following cell may be uncommented."
   ]
  },
  {
   "cell_type": "code",
   "execution_count": 3,
   "metadata": {
    "scrolled": true
   },
   "outputs": [
    {
     "data": {
      "text/html": [
       "<div>\n",
       "<style scoped>\n",
       "    .dataframe tbody tr th:only-of-type {\n",
       "        vertical-align: middle;\n",
       "    }\n",
       "\n",
       "    .dataframe tbody tr th {\n",
       "        vertical-align: top;\n",
       "    }\n",
       "\n",
       "    .dataframe thead th {\n",
       "        text-align: right;\n",
       "    }\n",
       "</style>\n",
       "<table border=\"1\" class=\"dataframe\">\n",
       "  <thead>\n",
       "    <tr style=\"text-align: right;\">\n",
       "      <th></th>\n",
       "      <th>CMCSA</th>\n",
       "      <th>T</th>\n",
       "      <th>AAPL</th>\n",
       "      <th>MSFT</th>\n",
       "      <th>WMT</th>\n",
       "      <th>year</th>\n",
       "    </tr>\n",
       "  </thead>\n",
       "  <tbody>\n",
       "    <tr>\n",
       "      <td>0</td>\n",
       "      <td>1.705207</td>\n",
       "      <td>-28.388810</td>\n",
       "      <td>27.456902</td>\n",
       "      <td>11.344808</td>\n",
       "      <td>-3.731348</td>\n",
       "      <td>2014</td>\n",
       "    </tr>\n",
       "    <tr>\n",
       "      <td>1</td>\n",
       "      <td>-10.146865</td>\n",
       "      <td>-18.620589</td>\n",
       "      <td>-11.904417</td>\n",
       "      <td>9.353252</td>\n",
       "      <td>-35.554956</td>\n",
       "      <td>2015</td>\n",
       "    </tr>\n",
       "    <tr>\n",
       "      <td>2</td>\n",
       "      <td>18.108101</td>\n",
       "      <td>4.171407</td>\n",
       "      <td>7.569124</td>\n",
       "      <td>8.095585</td>\n",
       "      <td>6.627371</td>\n",
       "      <td>2016</td>\n",
       "    </tr>\n",
       "    <tr>\n",
       "      <td>3</td>\n",
       "      <td>9.813918</td>\n",
       "      <td>-20.169875</td>\n",
       "      <td>41.511218</td>\n",
       "      <td>31.603032</td>\n",
       "      <td>36.547809</td>\n",
       "      <td>2017</td>\n",
       "    </tr>\n",
       "    <tr>\n",
       "      <td>4</td>\n",
       "      <td>-18.278692</td>\n",
       "      <td>-32.165617</td>\n",
       "      <td>-8.887455</td>\n",
       "      <td>15.891587</td>\n",
       "      <td>-8.055473</td>\n",
       "      <td>2018</td>\n",
       "    </tr>\n",
       "  </tbody>\n",
       "</table>\n",
       "</div>"
      ],
      "text/plain": [
       "       CMCSA          T       AAPL       MSFT        WMT  year\n",
       "0   1.705207 -28.388810  27.456902  11.344808  -3.731348  2014\n",
       "1 -10.146865 -18.620589 -11.904417   9.353252 -35.554956  2015\n",
       "2  18.108101   4.171407   7.569124   8.095585   6.627371  2016\n",
       "3   9.813918 -20.169875  41.511218  31.603032  36.547809  2017\n",
       "4 -18.278692 -32.165617  -8.887455  15.891587  -8.055473  2018"
      ]
     },
     "metadata": {},
     "output_type": "display_data"
    }
   ],
   "source": [
    "expected_return = np.array(expected_return)\n",
    "years = [];\n",
    "for i in range(2014, 2019):\n",
    "    years.append(i)\n",
    "\n",
    "returns_df = pd.DataFrame(expected_return.reshape(5,5), columns = tickers)\n",
    "returns_df['year'] = years\n",
    "#display(returns_df)"
   ]
  },
  {
   "cell_type": "markdown",
   "metadata": {},
   "source": [
    "In the following cell we create a list of stocks and compare each one to their data from 2018 to 2014. The data files are read in and stored in a list which is used in the first outer loop to get the significant features for comparison. The outer loop iterates through each year. The inner loop takes each stock from the selected year and adds it to its own list. It then takes the appropriate Expected Return values (calculated above) and appends them to each stock as a new column. Lastly, we convert these lists to dataframes and store the dataframes in another list titled datatables. To see results, the last two lines in the following cell may be uncommented."
   ]
  },
  {
   "cell_type": "code",
   "execution_count": 23,
   "metadata": {
    "scrolled": false
   },
   "outputs": [],
   "source": [
    "# Read in all datasets\n",
    "df2018 = pd.read_csv(\"2018_Financial_Data.csv\")\n",
    "df2017 = pd.read_csv(\"2017_Financial_Data.csv\")\n",
    "df2016 = pd.read_csv(\"2016_Financial_Data.csv\")\n",
    "df2015 = pd.read_csv(\"2015_Financial_Data.csv\")\n",
    "df2014 = pd.read_csv(\"2014_Financial_Data.csv\")\n",
    "\n",
    "# Insert data into list for iteration and initialize other lists\n",
    "datatables = []\n",
    "listtotal = []\n",
    "list_stocks = []\n",
    "list_years = [df2018, df2017, df2016, df2015, df2014]\n",
    "for i in range(len(list_years)):\n",
    "    \n",
    "    # Clear list_stocks for the upcoming year\n",
    "    if len(list_stocks)!=0:\n",
    "        list_stocks.clear()\n",
    "        \n",
    "    # Modify data to get desired amount of features\n",
    "    financial_data = pd.DataFrame(list_years[i], columns = ['Symbol', 'Revenue', 'Revenue Growth', 'Gross Profit', \n",
    "                                                  'Operating Income', 'Earnings before Tax', 'Free Cash Flow', \n",
    "                                                  'Net Income', 'Total current assets',\n",
    "                                                  'Operating Expenses',  'Net Debt', 'Short-term debt', 'Long-term debt', \n",
    "                                                  'Total shareholders equity', 'Weighted Average Shs Out', \n",
    "                                                  'Total current liabilities', 'Total debt', 'Total liabilities']) \n",
    "    \n",
    "    for j in range(len(tickers)):\n",
    "        list_stocks.append(pd.DataFrame(financial_data.loc[financial_data['Symbol'] == tickers[j], :]))\n",
    "        \n",
    "        if i == 0:\n",
    "            # Add stocks to their own list\n",
    "            listtotal.append(list_stocks[j])\n",
    "            \n",
    "        elif i == (len(list_years)-1):\n",
    "            listtotal[j] = listtotal[j].append(list_stocks[j]) # Append stock data together throughout 5 years\n",
    "            \n",
    "            # Add on Expected Return column to each stock\n",
    "            listtotal[j]['Expected Return'] = [expected_return[j],expected_return[j+len(tickers)], \n",
    "                                            expected_return[j+(2*len(tickers))], expected_return[j+(3*len(tickers))],\n",
    "                                            expected_return[j+(4*len(tickers))]]\n",
    "            \n",
    "            datatables.append(pd.DataFrame(listtotal[j]))\n",
    "            \n",
    "        else:\n",
    "            listtotal[j] = listtotal[j].append(list_stocks[j])\n",
    "            \n",
    "#for k in range(0, len(datatables)):\n",
    "    #display(datatables[k])"
   ]
  },
  {
   "cell_type": "markdown",
   "metadata": {},
   "source": [
    "In this cell we use multiple regression on our results. First we find the X and Y matrices for the normal equation, then we calculate the parameters based of of that. Finally, we use the training data and targets to find the Root-Mean-Square Error (RMSE) for the model we have. This tells us how far from the regression line the data points are. Basically, having the RMSE for each stock shows us the prediction errors."
   ]
  },
  {
   "cell_type": "code",
   "execution_count": 24,
   "metadata": {},
   "outputs": [
    {
     "name": "stdout",
     "output_type": "stream",
     "text": [
      "RMSE for  CMCSA  is  2.3027827207312885\n",
      "RMSE for  T  is  105.51891347566765\n",
      "RMSE for  AAPL  is  129.46772053770098\n",
      "RMSE for  MSFT  is  437.5444310631503\n",
      "RMSE for  WMT  is  15.728002433485424\n"
     ]
    }
   ],
   "source": [
    "# Create an array of the tables above\n",
    "#dataTables = [s1_total, s2_total, s3_total, s4_total, s5_total]\n",
    "\n",
    "# Loop through each of the tables and calculate the pararmeters for multiple linear regression \n",
    "# After calculating the parameters, test the regression and calcualte RMSE\n",
    "for i in range(0, len(datatables)):\n",
    "    \n",
    "    # Find what are the X and Y matrices for normal equation\n",
    "    x = datatables[i].drop('Symbol',1)\n",
    "    x = x.drop('Expected Return', 1).to_numpy()\n",
    "    y = datatables[i]['Expected Return'].to_numpy()\n",
    "    \n",
    "    # Calculate the parameters\n",
    "    XTX = x.transpose().dot(x)\n",
    "    XTX_inverse = inv(np.matrix(XTX))\n",
    "    XTX_inverse_X = XTX_inverse.dot(x.transpose())\n",
    "    param_theta = XTX_inverse_X.dot(y)\n",
    "    \n",
    "\n",
    "    # Find RMSE for the model using the training data and targets we have\n",
    "    error_sum = 0\n",
    "    for j in range (0,5):\n",
    "        y_pred = param_theta.dot(x[j])\n",
    "        #print(y_pred)\n",
    "        pred_difference = y_pred - returns_df[tickers[i]][j]\n",
    "        error_sum = error_sum + ((pred_difference**2) / 5)\n",
    "    RMSE = math.sqrt(error_sum)\n",
    "    print(\"RMSE for \", tickers[i], \" is \", RMSE) #print the RMSE"
   ]
  },
  {
   "cell_type": "code",
   "execution_count": null,
   "metadata": {},
   "outputs": [],
   "source": []
  }
 ],
 "metadata": {
  "kernelspec": {
   "display_name": "Python 3",
   "language": "python",
   "name": "python3"
  },
  "language_info": {
   "codemirror_mode": {
    "name": "ipython",
    "version": 3
   },
   "file_extension": ".py",
   "mimetype": "text/x-python",
   "name": "python",
   "nbconvert_exporter": "python",
   "pygments_lexer": "ipython3",
   "version": "3.7.4"
  }
 },
 "nbformat": 4,
 "nbformat_minor": 2
}
