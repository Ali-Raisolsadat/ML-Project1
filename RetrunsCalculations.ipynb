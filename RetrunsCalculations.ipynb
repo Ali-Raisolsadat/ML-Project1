{
 "cells": [
  {
   "cell_type": "code",
   "execution_count": 1,
   "metadata": {},
   "outputs": [],
   "source": [
    "from pandas_datareader import data\n",
    "import matplotlib.pyplot as plt\n",
    "import pandas as pd\n",
    "import numpy as np"
   ]
  },
  {
   "cell_type": "markdown",
   "metadata": {},
   "source": [
    "Each day, a stock takes a certain trajectory. Let $n$ be the number of trajectories a stock has taken for the whole year and $S_{T_{i}}$ is the closing price at the end of each day. Then the exepcted return for a stock then can be calculated by  $$\\frac{1}{n}\\sum_{i=1}^n S_{T_{i}} = S_{T}$$ which simply the average of the closing prices."
   ]
  },
  {
   "cell_type": "code",
   "execution_count": 2,
   "metadata": {},
   "outputs": [
    {
     "name": "stdout",
     "output_type": "stream",
     "text": [
      "0    CMCSA\n",
      "1     AAPL\n",
      "2     MSFT\n",
      "3        F\n",
      "4      AIG\n",
      "Name: Symbol, dtype: object\n"
     ]
    }
   ],
   "source": [
    "df1 = pd.read_csv(\"Final_Portfolio_2018.csv\")\n",
    "\n",
    "tickers = df1['Symbol']\n",
    "print(tickers)\n",
    "#tickers = ['CMCSA','AAPL', 'MSFT', 'F', 'AIG', 'WMT', 'GM', 'T', 'VZ' ,'XOM'] #our portoflio\n",
    "expected_return = []\n",
    "\n",
    "start_date = '2014-01-01'\n",
    "end_date = '2014-12-31'\n",
    "for ticker in  tickers:\n",
    "    panel_data = data.DataReader(ticker, 'yahoo', start_date, end_date)\n",
    "    mean = panel_data['Close'].mean()\n",
    "    expected_return.append(mean)\n",
    "    \n",
    "start_date = '2015-01-01'\n",
    "end_date = '2015-12-31'\n",
    "for ticker in  tickers:\n",
    "    panel_data = data.DataReader(ticker, 'yahoo', start_date, end_date)\n",
    "    mean = panel_data['Close'].mean()\n",
    "    expected_return.append(mean)\n",
    "    \n",
    "start_date = '2016-01-01'\n",
    "end_date = '2016-12-31'\n",
    "for ticker in  tickers:\n",
    "    panel_data = data.DataReader(ticker, 'yahoo', start_date, end_date)\n",
    "    mean = panel_data['Close'].mean()\n",
    "    expected_return.append(mean)\n",
    "\n",
    "start_date = '2017-01-01'\n",
    "end_date = '2017-12-31'\n",
    "for ticker in  tickers:\n",
    "    panel_data = data.DataReader(ticker, 'yahoo', start_date, end_date)\n",
    "    mean = panel_data['Close'].mean()\n",
    "    expected_return.append(mean)\n",
    "\n",
    "start_date = '2018-01-01'\n",
    "end_date = '2018-12-31'\n",
    "for ticker in  tickers:\n",
    "    panel_data = data.DataReader(ticker, 'yahoo', start_date, end_date)\n",
    "    mean = panel_data['Close'].mean()\n",
    "    expected_return.append(mean)"
   ]
  },
  {
   "cell_type": "code",
   "execution_count": 4,
   "metadata": {},
   "outputs": [
    {
     "name": "stdout",
     "output_type": "stream",
     "text": [
      "[2014, 2015, 2016, 2017, 2018]\n"
     ]
    },
    {
     "data": {
      "text/html": [
       "<div>\n",
       "<style scoped>\n",
       "    .dataframe tbody tr th:only-of-type {\n",
       "        vertical-align: middle;\n",
       "    }\n",
       "\n",
       "    .dataframe tbody tr th {\n",
       "        vertical-align: top;\n",
       "    }\n",
       "\n",
       "    .dataframe thead th {\n",
       "        text-align: right;\n",
       "    }\n",
       "</style>\n",
       "<table border=\"1\" class=\"dataframe\">\n",
       "  <thead>\n",
       "    <tr style=\"text-align: right;\">\n",
       "      <th>Symbol</th>\n",
       "      <th>CMCSA</th>\n",
       "      <th>AAPL</th>\n",
       "      <th>MSFT</th>\n",
       "      <th>F</th>\n",
       "      <th>AIG</th>\n",
       "    </tr>\n",
       "  </thead>\n",
       "  <tbody>\n",
       "    <tr>\n",
       "      <td>0</td>\n",
       "      <td>26.641865</td>\n",
       "      <td>92.264654</td>\n",
       "      <td>42.453492</td>\n",
       "      <td>15.894405</td>\n",
       "      <td>52.772540</td>\n",
       "    </tr>\n",
       "    <tr>\n",
       "      <td>1</td>\n",
       "      <td>29.488611</td>\n",
       "      <td>120.040000</td>\n",
       "      <td>46.714286</td>\n",
       "      <td>15.002738</td>\n",
       "      <td>58.761627</td>\n",
       "    </tr>\n",
       "    <tr>\n",
       "      <td>2</td>\n",
       "      <td>31.633730</td>\n",
       "      <td>104.604008</td>\n",
       "      <td>55.259325</td>\n",
       "      <td>12.631032</td>\n",
       "      <td>57.304722</td>\n",
       "    </tr>\n",
       "    <tr>\n",
       "      <td>3</td>\n",
       "      <td>38.381653</td>\n",
       "      <td>150.551075</td>\n",
       "      <td>71.984024</td>\n",
       "      <td>11.792590</td>\n",
       "      <td>62.520438</td>\n",
       "    </tr>\n",
       "    <tr>\n",
       "      <td>4</td>\n",
       "      <td>35.781633</td>\n",
       "      <td>189.053427</td>\n",
       "      <td>101.033984</td>\n",
       "      <td>10.407410</td>\n",
       "      <td>52.593386</td>\n",
       "    </tr>\n",
       "  </tbody>\n",
       "</table>\n",
       "</div>"
      ],
      "text/plain": [
       "Symbol      CMCSA        AAPL        MSFT          F        AIG\n",
       "0       26.641865   92.264654   42.453492  15.894405  52.772540\n",
       "1       29.488611  120.040000   46.714286  15.002738  58.761627\n",
       "2       31.633730  104.604008   55.259325  12.631032  57.304722\n",
       "3       38.381653  150.551075   71.984024  11.792590  62.520438\n",
       "4       35.781633  189.053427  101.033984  10.407410  52.593386"
      ]
     },
     "metadata": {},
     "output_type": "display_data"
    }
   ],
   "source": [
    "expected_return = np.array(expected_return)\n",
    "years = [];\n",
    "for i in range(2014, 2019):\n",
    "    years.append(i)\n",
    "\n",
    "print(years)\n",
    "display(pd.DataFrame(expected_return.reshape(5,df1['Symbol'].shape[0]), columns = df1['Symbol']))\n"
   ]
  },
  {
   "cell_type": "code",
   "execution_count": 5,
   "metadata": {},
   "outputs": [],
   "source": [
    "df7 = pd.read_csv(\"2017_Financial_Data.csv\")\n",
    "df6 = pd.read_csv(\"2016_Financial_Data.csv\")\n",
    "df5 = pd.read_csv(\"2015_Financial_Data.csv\")\n",
    "df4 = pd.read_csv(\"2014_Financial_Data.csv\")\n",
    "\n"
   ]
  },
  {
   "cell_type": "code",
   "execution_count": null,
   "metadata": {},
   "outputs": [],
   "source": []
  }
 ],
 "metadata": {
  "kernelspec": {
   "display_name": "Python 3",
   "language": "python",
   "name": "python3"
  },
  "language_info": {
   "codemirror_mode": {
    "name": "ipython",
    "version": 3
   },
   "file_extension": ".py",
   "mimetype": "text/x-python",
   "name": "python",
   "nbconvert_exporter": "python",
   "pygments_lexer": "ipython3",
   "version": "3.7.4"
  }
 },
 "nbformat": 4,
 "nbformat_minor": 2
}
