{
 "cells": [
  {
   "cell_type": "code",
   "execution_count": 85,
   "metadata": {},
   "outputs": [],
   "source": [
    "import pandas as pd\n",
    "import numpy as np\n",
    "%matplotlib inline\n",
    "import matplotlib.pyplot as plt\n",
    "import seaborn as sns; sns.set() #this is used for plot styling\n",
    "from sklearn.cluster import KMeans\n",
    "from sklearn.cluster import DBSCAN\n",
    "\n",
    "# Begin by reading the original data\n",
    "df1 = pd.read_csv(\"2018_Financial_Data.csv\")\n",
    "\n",
    "# Create the financial data frame we need with extra features taken directly from the real data (df1)\n",
    "financial_data = pd.DataFrame(df1, columns = ['Symbol', 'Revenue', 'Revenue Growth', 'Cost of Revenue', 'Gross Profit', \n",
    "                     'Operating Expenses', 'Operating Income', 'Earnings before Tax', 'Net Income', 'Net Debt']) \n",
    "\n",
    "\n",
    "# Calculate earnings per share ratio\n",
    "financial_data['EarningsPerShare'] = (df1['Net Income'] - df1['Preferred Dividends']) / df1['Weighted Average Shs Out']\n",
    "\n",
    "# Get the P/E ratio directly from data\n",
    "financial_data['PriceEarningsRatio'] = df1['PE ratio']\n",
    "\n",
    "# Calculate debt to equity ratio\n",
    "financial_data['DebtEquityRatio'] = (df1['Short-term debt'] + df1['Long-term debt']) / df1['Total shareholders equity']\n",
    "\n",
    "# Get the return on equity ratio\n",
    "financial_data['ReturnOnEquity'] = df1['returnOnEquity']\n",
    "\n",
    "# Get the quick ratio\n",
    "financial_data['QuickRatio'] = df1['quickRatio']\n",
    "\n",
    "# Calculate the working capital ratio\n",
    "financial_data['WorkingCapitalRatio'] = df1['Total current assets'] / df1['Total current liabilities']\n",
    "\n",
    "\n",
    "\n",
    "# Get rid of empty values from the date given\n",
    "nan_value = float(\"NaN\")\n",
    "financial_data.replace(\"\", nan_value, inplace=True) #change empty data to nan\n",
    "financial_data.replace(0, nan_value, inplace=True) #change zero data to nan\n",
    "financial_data.dropna(axis=0, inplace = True) #get rid of nans\n",
    "\n",
    "# Save the original data frame as target data frame\n",
    "target_data = financial_data\n",
    "\n",
    "# Drop the symbols for KMeans\n",
    "financial_data = financial_data.drop('Symbol', 1)\n",
    "\n",
    "#display(target_data)\n"
   ]
  },
  {
   "cell_type": "code",
   "execution_count": 86,
   "metadata": {
    "scrolled": true
   },
   "outputs": [],
   "source": [
    "# In this section we run K-Means algorithm with 3 different cluster sizes, which are 4, 5 and 6. \n",
    "# We will know what company is really good when we get the company to be in group 3 (with 4 clusters), \n",
    "# in group 4 (with 5 clusters), and in group 5 (with 6 clusters). These groups perform the highest therefore our portfolio\n",
    "# will contain the stock of these companies.\n",
    "\n",
    "# Since K-Means algorithm picks arbitrary points and then tries to adjust the mean, then we will have different portfolios \n",
    "# each time we run the K-Means. This is not good for us as we need groups to be the same, so we can create our \n",
    "# final portfolio. Now if we run this many times we notice that after 3 or 4 iterations, the algorithm adjusts back the first \n",
    "# groups, and this happens over and over again. We get similar stocks in each iteration and we add this an array and keep them\n",
    "# for further analysis. \n",
    "# In nutshell, we iterate K-Means algorithm many times, we get groups in each iterations, we take the stock that is most \n",
    "# repeated and put it in our final portfolio. \n",
    "\n",
    "# Temporary data frames to save the symbols of the stocks in the best group for each \n",
    "temp_df1 = pd.DataFrame()\n",
    "temp_df2 = pd.DataFrame()\n",
    "temp_df3 = pd.DataFrame()\n",
    "\n",
    "# Loop to run K-Means many times with 3 different cluster sizes. \n",
    "for i in range(200):\n",
    "    \n",
    "    # K-Means with 4 clusters\n",
    "    kmeans = KMeans(n_clusters = 4,  random_state=0)\n",
    "    kmeans.fit(financial_data)\n",
    "    y_k3means = kmeans.predict(financial_data)\n",
    "    portfolio_k3 = pd.DataFrame(target_data.loc[y_k3means > 2, 'Symbol']).to_numpy() #get the best group of stocks\n",
    "    \n",
    "    # K-Means with 5 clusters\n",
    "    kmeans = KMeans(n_clusters = 5,  random_state=None)\n",
    "    kmeans.fit(financial_data)\n",
    "    y_k4means = kmeans.predict(financial_data)\n",
    "    portfolio_k4 = pd.DataFrame(target_data.loc[y_k4means > 3, 'Symbol']).to_numpy() #get the best group of stocks\n",
    "    \n",
    "    # K-Means with 6 clusters\n",
    "    kmeans = KMeans(n_clusters = 6,  random_state=None)\n",
    "    kmeans.fit(financial_data)\n",
    "    y_k5means = kmeans.predict(financial_data)\n",
    "    portfolio_k5 = pd.DataFrame(target_data.loc[y_k5means > 4, 'Symbol']).to_numpy() #get the best group of stocks\n",
    "    \n",
    "    # compare the portoflios and select the best stocks\n",
    "    port1 = pd.DataFrame(np.intersect1d(portfolio_k3, portfolio_k4))\n",
    "    port2 = pd.DataFrame(np.intersect1d(portfolio_k4, portfolio_k5))\n",
    "    port3 = pd.DataFrame(np.intersect1d(portfolio_k3, portfolio_k5))\n",
    "    #print(np.intersect1d(portfolio_k3, portfolio_k4))\n",
    "    \n",
    "    # save the list of these stocks\n",
    "    temp_df1 = temp_df1.append(port1, ignore_index=True)\n",
    "    temp_df2 = temp_df2.append(port2, ignore_index=True)\n",
    "    temp_df3 = temp_df3.append(port3, ignore_index=True)"
   ]
  },
  {
   "cell_type": "code",
   "execution_count": 87,
   "metadata": {},
   "outputs": [],
   "source": [
    "# Put all the above stocks together in a list\n",
    "temp_df1 = temp_df1.reset_index()\n",
    "temp_df2 = temp_df2.reset_index()\n",
    "temp_df3 = temp_df3.reset_index()\n",
    "port_df = [temp_df1, temp_df2, temp_df3]\n",
    "df_final = pd.concat(port_df, axis=1)"
   ]
  },
  {
   "cell_type": "code",
   "execution_count": 88,
   "metadata": {},
   "outputs": [],
   "source": [
    "df_final = df_final.drop('index', 1)\n",
    "\n",
    "# May not need to create semi-portfolio\n",
    "df_final.to_csv(\"semi_final_portfolio.csv\", index=False)"
   ]
  },
  {
   "cell_type": "code",
   "execution_count": 90,
   "metadata": {
    "scrolled": false
   },
   "outputs": [
    {
     "name": "stdout",
     "output_type": "stream",
     "text": [
      "GOOGL    116\n",
      "C         77\n",
      "MSFT      58\n",
      "MCK       42\n",
      "UNH       39\n",
      "AMZN      39\n",
      "LFC       37\n",
      "ANTM      37\n",
      "PBR       29\n",
      "HD        27\n",
      "dtype: int64\n"
     ]
    }
   ],
   "source": [
    "portfolio_dff = pd.read_csv(\"semi_final_portfolio.csv\", header=None)\n",
    "#portfolio_dff = df_final\n",
    "portfolio_dff.columns = ['one','two', 'three']\n",
    "#display(portfolio_dff)\n",
    "\n",
    "## OBJECTIVE: join/concat all columns together-> combine totals(add)-> group top 10\n",
    "\n",
    "# Place all columns into the same list\n",
    "df1 = portfolio_dff['one']\n",
    "df2 = portfolio_dff['two']\n",
    "df3 = portfolio_dff['three']\n",
    "dff = df3.append(df2).append(df1)\n",
    "\n",
    "# Get top 10 total counts\n",
    "countsTotal = dff.value_counts().head(10)\n",
    "\n",
    "#countsOne = portfolio_dff['one'].value_counts().to_dict()  -> ORIGINAL\n",
    "#mostOne = portfolio_dff['one'].value_counts().idxmax()\n",
    "print(countsTotal)\n",
    "\n",
    "# Output result to final_portfolio.csv\n",
    "countsTotal.to_csv(\"final_portfolio.csv\", header=False)\n",
    "\n",
    "#portfolio_dff=portfolio_dff.apply(pd.value_counts).fillna(0)\n",
    "#display(portfolio_dff.nlargest(5, ['one']))\n",
    "#display(portfolio_dff.nlargest(10, ['two']))\n",
    "#display(portfolio_dff.nlargest(10, ['three']))\n",
    "#portfolio_dff = portfolio_dff.to_numpy()\n",
    "\n"
   ]
  },
  {
   "cell_type": "code",
   "execution_count": null,
   "metadata": {},
   "outputs": [],
   "source": []
  },
  {
   "cell_type": "code",
   "execution_count": null,
   "metadata": {},
   "outputs": [],
   "source": []
  }
 ],
 "metadata": {
  "kernelspec": {
   "display_name": "Python 3",
   "language": "python",
   "name": "python3"
  },
  "language_info": {
   "codemirror_mode": {
    "name": "ipython",
    "version": 3
   },
   "file_extension": ".py",
   "mimetype": "text/x-python",
   "name": "python",
   "nbconvert_exporter": "python",
   "pygments_lexer": "ipython3",
   "version": "3.7.4"
  }
 },
 "nbformat": 4,
 "nbformat_minor": 2
}
